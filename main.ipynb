{
 "cells": [
  {
   "cell_type": "markdown",
   "metadata": {
    "collapsed": true,
    "pycharm": {
     "name": "#%% md\n"
    }
   },
   "source": [
    "<h1 align='center'>Cybersecurity threats detection using Deep Learning Architectures</h1>\n",
    "\n",
    "### Types of Attacks\n",
    "\n",
    "- *Denial of service attack (DoS)*: freezing or stopping the service permanently or temporarily, by sending a large amount of traffic\n",
    "- *Remote to local attack*: unauthorized access is granted by sending packets between the network and the system\n",
    "- *Probing*: information and data collected by scanning and mapping the network\n",
    "- *User to root attack*: normal users' password is traced\n",
    "- *Adversarial Attacks*: Deep Neural network are targeted by integrating noise in training data\n",
    "- *Integrity Attacks*: system data is corrupted or encrypted\n",
    "- *Causative Attacks*: neural network decision-making algorithm is attacked leading to miss-classification\n",
    "\n",
    "### USTC-TK2016 Dataset\n",
    "\n",
    "USTC-TK2016 is composed by a set of pcap files containing raw network traffic from 10 bening and 10 malware apps as shown at the table below:<br>\n",
    "![USTC-TK2016](data/img/USTC-TK2016.png)<br>\n",
    "\n",
    "### Approach\n",
    "\n",
    "- *CNN*: Pcap files will be transformed to mist images fed to CNN\n",
    "- *DNN~LSTM*: Argus api will be used to extract features from pcap files"
   ]
  },
  {
   "cell_type": "markdown",
   "source": [
    "#### Malware Traffic Classification Using CNN\n",
    "\n",
    "##### Data preprocessing\n",
    "\n",
    "- Step 1: Install pre-requisites (DO NOT RUN)"
   ],
   "metadata": {
    "collapsed": false
   }
  },
  {
   "cell_type": "code",
   "execution_count": null,
   "outputs": [],
   "source": [
    "# Connect to Drive\n",
    "from google.colab import drive\n",
    "drive.mount('/content/drive')\n",
    "\n",
    "# Update the list of packages\n",
    "!sudo apt-get update\n",
    "# Install pre-requisite packages.\n",
    "!sudo apt-get install -y wget apt-transport-https software-properties-common\n",
    "# Download the Microsoft repository GPG keys\n",
    "!wget -q https://packages.microsoft.com/config/ubuntu/16.04/packages-microsoft-prod.deb\n",
    "# Register the Microsoft repository GPG keys\n",
    "!sudo dpkg -i packages-microsoft-prod.deb\n",
    "# Update the list of packages after we added packages.microsoft.com\n",
    "!sudo apt-get update\n",
    "# Install PowerShell\n",
    "!sudo apt-get install -y powershell\n",
    "# Install SplitCap pre-requisite\n",
    "!sudo apt install mono-runtime\n",
    "# Install find dupes\n",
    "!sudo apt-get install fdupes\n",
    "\n",
    "%cd drive/MyDrive/UNIPI/DL_Cybersecurity/\n",
    "# Clone the repository on \"ubuntu\" branch\n",
    "!sudo git clone -b ubuntu https://github.com/yungshenglu/USTC-TK2016 USTC-TK2016\n",
    "# Install the required packages\n",
    "!pip3 install -r requirements.txt\n",
    "# Download the traffic dataset\n",
    "%cd USTC-TK2016/1_Pcap/\n",
    "!sudo git clone -b master https://github.com/yungshenglu/USTC-TFC2016\n",
    "# Grand run permission to executable files\n",
    "%cd ../\n",
    "!chmod 777 0_Tool/SplitCap_2-1/SplitCap.exe\n",
    "!chmod 777 1_Pcap2Session.ps1\n",
    "!chmod 777 2_ProcessSession.ps1\n"
   ],
   "metadata": {
    "collapsed": false,
    "pycharm": {
     "name": "#%%\n"
    }
   }
  },
  {
   "cell_type": "markdown",
   "source": [
    "- Step 2: Split the PCAP files by each session (DO NOT RUN)\n"
   ],
   "metadata": {
    "collapsed": false
   }
  },
  {
   "cell_type": "code",
   "execution_count": null,
   "outputs": [],
   "source": [
    "!pwsh -File ./1_Pcap2Session.ps1"
   ],
   "metadata": {
    "collapsed": false,
    "pycharm": {
     "name": "#%%\n"
    }
   }
  },
  {
   "cell_type": "markdown",
   "source": [
    "- Step 3: Process Sessions  (DO NOT RUN)\n",
    "\n",
    "Top 60000 large PCAP files selected and trimmed and randomly distributed into test and train sets."
   ],
   "metadata": {
    "collapsed": false
   }
  },
  {
   "cell_type": "code",
   "execution_count": null,
   "outputs": [],
   "source": [
    "!pwsh -File ./2_ProcessSession.ps1"
   ],
   "metadata": {
    "collapsed": false,
    "pycharm": {
     "name": "#%%\n"
    }
   }
  },
  {
   "cell_type": "markdown",
   "source": [
    "- Step 4: PCAP files converted to images (DO NOT RUN)\n",
    "\n",
    "Trimmed PCAP files into size is 784 bytes (28 x 28) (0x00 element is appended if the PCAP file is shorter than 784 bytes)"
   ],
   "metadata": {
    "collapsed": false
   }
  },
  {
   "cell_type": "code",
   "execution_count": null,
   "outputs": [],
   "source": [
    "!python3 3_Session2Png.py"
   ],
   "metadata": {
    "collapsed": false,
    "pycharm": {
     "name": "#%%\n"
    }
   }
  },
  {
   "cell_type": "markdown",
   "source": [
    "- Step 5: Png files are labeled and converted to IDX files (DO NOT RUN)"
   ],
   "metadata": {
    "collapsed": false
   }
  },
  {
   "cell_type": "code",
   "execution_count": null,
   "outputs": [],
   "source": [
    "!python3 4_Png2Mnist.py"
   ],
   "metadata": {
    "collapsed": false,
    "pycharm": {
     "name": "#%%\n"
    }
   }
  },
  {
   "cell_type": "markdown",
   "source": [
    "##### Training and Test"
   ],
   "metadata": {
    "collapsed": false
   }
  },
  {
   "cell_type": "code",
   "execution_count": 2,
   "outputs": [
    {
     "ename": "TypeError",
     "evalue": "object of type 'module' has no len()",
     "output_type": "error",
     "traceback": [
      "\u001B[1;31m---------------------------------------------------------------------------\u001B[0m",
      "\u001B[1;31mTypeError\u001B[0m                                 Traceback (most recent call last)",
      "\u001B[1;32m<ipython-input-2-d0f34b50a8e9>\u001B[0m in \u001B[0;36m<module>\u001B[1;34m\u001B[0m\n\u001B[0;32m      9\u001B[0m \u001B[1;33m\u001B[0m\u001B[0m\n\u001B[0;32m     10\u001B[0m \u001B[0mmnist\u001B[0m \u001B[1;33m=\u001B[0m \u001B[0mtf\u001B[0m\u001B[1;33m.\u001B[0m\u001B[0mkeras\u001B[0m\u001B[1;33m.\u001B[0m\u001B[0mdatasets\u001B[0m\u001B[1;33m.\u001B[0m\u001B[0mmnist\u001B[0m\u001B[1;33m\u001B[0m\u001B[1;33m\u001B[0m\u001B[0m\n\u001B[1;32m---> 11\u001B[1;33m \u001B[0mprint\u001B[0m\u001B[1;33m(\u001B[0m\u001B[0mlen\u001B[0m\u001B[1;33m(\u001B[0m\u001B[0mmnist\u001B[0m\u001B[1;33m)\u001B[0m\u001B[1;33m)\u001B[0m\u001B[1;33m\u001B[0m\u001B[1;33m\u001B[0m\u001B[0m\n\u001B[0m",
      "\u001B[1;31mTypeError\u001B[0m: object of type 'module' has no len()"
     ]
    }
   ],
   "source": [
    "import tensorflow as tf\n",
    "import gzip\n",
    "import time\n",
    "import sys\n",
    "import numpy as np\n",
    "import os\n",
    "\n",
    "IMAGE_SIZE = 28\n",
    "DATA_DIR = 'drive/MyDrive/UNIPI/DL_Cybersecurity/USTC-TK2016/5_Mnist/'\n",
    "\n",
    "\n",
    "def extract_data(filename, num_images):\n",
    "  \"\"\"Extract the images into a 4D tensor [image index, y, x, channels].\n",
    "  Values are rescaled from [0, 255] down to [-0.5, 0.5].\n",
    "  \"\"\"\n",
    "  print('Extracting', filename)\n",
    "  with gzip.open(filename) as bytestream:\n",
    "    bytestream.read(16)\n",
    "    buf = bytestream.read(IMAGE_SIZE * IMAGE_SIZE * num_images)\n",
    "    data = np.frombuffer(buf, dtype=np.uint8).astype(np.float32)\n",
    "    #data = (data - (PIXEL_DEPTH / 2.0)) / PIXEL_DEPTH\n",
    "    data = data.reshape(num_images, IMAGE_SIZE, IMAGE_SIZE, 1)\n",
    "    return data\n",
    "\n",
    "\n",
    "def extract_labels(filename, num_images):\n",
    "  \"\"\"Extract the labels into a vector of int64 label IDs.\"\"\"\n",
    "  print('Extracting', filename)\n",
    "  with gzip.open(filename) as bytestream:\n",
    "    bytestream.read(8)\n",
    "    buf = bytestream.read(1 * num_images)\n",
    "    labels = np.frombuffer(buf, dtype=np.uint8).astype(np.int64)\n",
    "  return labels\n",
    "\n",
    "# Extract it into np arrays.\n",
    "train_data = extract_data(DATA_DIR + 'train-images-idx3-ubyte.gz', 60000)\n",
    "train_labels = extract_labels(DATA_DIR + 'train-labels-idx1-ubyte.gz', 60000)\n",
    "test_data = extract_data(DATA_DIR + 't10k-images-idx3-ubyte.gz', 10000)\n",
    "test_labels = extract_labels(DATA_DIR + 't10k-labels-idx1-ubyte.gz', 10000)\n"
   ],
   "metadata": {
    "collapsed": false,
    "pycharm": {
     "name": "#%%\n"
    }
   }
  }
 ],
 "metadata": {
  "kernelspec": {
   "display_name": "Python 3",
   "language": "python",
   "name": "python3"
  },
  "language_info": {
   "codemirror_mode": {
    "name": "ipython",
    "version": 2
   },
   "file_extension": ".py",
   "mimetype": "text/x-python",
   "name": "python",
   "nbconvert_exporter": "python",
   "pygments_lexer": "ipython2",
   "version": "2.7.6"
  }
 },
 "nbformat": 4,
 "nbformat_minor": 0
}