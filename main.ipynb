{
 "cells": [
  {
   "cell_type": "markdown",
   "metadata": {
    "collapsed": true,
    "pycharm": {
     "name": "#%% md\n"
    }
   },
   "source": [
    "<h1 align='center'>Cybersecurity threats detection using Deep Learning Architectures</h1>\n",
    "\n",
    "### Types of Attacks\n",
    "\n",
    "- *Denial of service attack (DoS)*: freezing or stopping the service permanently or temporarily, by sending a large amount of traffic\n",
    "- *Remote to local attack*: unauthorized access is granted by sending packets between the network and the system\n",
    "- *Probing*: information and data collected by scanning and mapping the network\n",
    "- *User to root attack*: normal users' password is traced\n",
    "- *Adversarial Attacks*: Deep Neural network are targeted by integrating noise in training data\n",
    "- *Integrity Attacks*: system data is corrupted or encrypted\n",
    "- *Causative Attacks*: neural network decision-making algorithm is attacked leading to miss-classification\n",
    "\n",
    "### USTC-TK2016 Dataset\n",
    "\n",
    "USTC-TK2016 is composed by a set of pcap files containing raw network traffic from 10 bening and 10 malware apps as shown at the table below:<br>\n",
    "![USTC-TK2016](data/img/USTC-TK2016.png)<br>\n",
    "\n",
    "### Approach\n",
    "\n",
    "- *CNN*: Pcap files will be transformed to mist images fed to CNN\n",
    "- *DNN~LSTM*: Argus api will be used to extract features from pcap files"
   ]
  },
  {
   "cell_type": "markdown",
   "source": [
    "*Malware Traffic Classification Using CNN*\n",
    "\n",
    "- Step 1: Install pre-requisites (DO NOT RUN)"
   ],
   "metadata": {
    "collapsed": false
   }
  },
  {
   "cell_type": "code",
   "execution_count": null,
   "outputs": [],
   "source": [
    "# Update the list of packages\n",
    "!sudo apt-get update\n",
    "# Install pre-requisite packages.\n",
    "!sudo apt-get install -y wget apt-transport-https software-properties-common\n",
    "# Download the Microsoft repository GPG keys\n",
    "!wget -q https://packages.microsoft.com/config/ubuntu/16.04/packages-microsoft-prod.deb\n",
    "# Register the Microsoft repository GPG keys\n",
    "!sudo dpkg -i packages-microsoft-prod.deb\n",
    "# Update the list of packages after we added packages.microsoft.com\n",
    "!sudo apt-get update\n",
    "# Install PowerShell\n",
    "!sudo apt-get install -y powershell\n",
    "# Install SplitCap pre-requisite\n",
    "!sudo apt install mono-runtime\n",
    "# Install find dupes\n",
    "!sudo apt-get install fdupes\n",
    "\n",
    "%cd drive/MyDrive/UNIPI/DL_Cybersecurity/\n",
    "# Clone the repository on \"ubuntu\" branch\n",
    "!sudo git clone -b ubuntu https://github.com/yungshenglu/USTC-TK2016 USTC-TK2016\n",
    "# Install the required packages\n",
    "!pip3 install -r requirements.txt\n",
    "# Download the traffic dataset\n",
    "%cd USTC-TK2016/1_Pcap/\n",
    "!sudo git clone -b master https://github.com/yungshenglu/USTC-TFC2016\n",
    "# Grand run permission to executable files\n",
    "%cd ../\n",
    "!chmod 777 0_Tool/SplitCap_2-1/SplitCap.exe\n",
    "!chmod 777 1_Pcap2Session.ps1\n",
    "!chmod 777 2_ProcessSession.ps1\n",
    "\n"
   ],
   "metadata": {
    "collapsed": false,
    "pycharm": {
     "name": "#%%\n"
    }
   }
  }
 ],
 "metadata": {
  "kernelspec": {
   "display_name": "Python 3",
   "language": "python",
   "name": "python3"
  },
  "language_info": {
   "codemirror_mode": {
    "name": "ipython",
    "version": 2
   },
   "file_extension": ".py",
   "mimetype": "text/x-python",
   "name": "python",
   "nbconvert_exporter": "python",
   "pygments_lexer": "ipython2",
   "version": "2.7.6"
  }
 },
 "nbformat": 4,
 "nbformat_minor": 0
}